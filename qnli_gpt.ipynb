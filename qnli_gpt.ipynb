{
  "cells": [
    {
      "cell_type": "code",
      "execution_count": 13,
      "metadata": {
        "id": "er4f2hzLKL--"
      },
      "outputs": [],
      "source": [
        "# !pip install openai==0.28.0 datasets transformers sentence-transformers faiss-cpu"
      ]
    },
    {
      "cell_type": "code",
      "execution_count": 14,
      "metadata": {
        "id": "M6QRc3fkKt1y"
      },
      "outputs": [],
      "source": [
        "import openai\n",
        "import os\n",
        "from tqdm import tqdm\n",
        "import pandas as pd\n",
        "from datasets import load_dataset\n",
        "from transformers import (\n",
        "    AutoTokenizer,\n",
        "    AutoModelForSeq2SeqLM,\n",
        "    default_data_collator,\n",
        ")\n",
        "from torch.utils.data import DataLoader\n",
        "from sentence_transformers import SentenceTransformer\n",
        "import faiss\n",
        "import numpy as np\n",
        "import matplotlib.pyplot as plt"
      ]
    },
    {
      "cell_type": "code",
      "execution_count": 15,
      "metadata": {
        "id": "nub9izQcKL--"
      },
      "outputs": [],
      "source": [
        "openai.api_key = \"YOUR_API_KEY\"\n",
        "\n",
        "model = \"gpt-4o-2024-11-20\"\n",
        "\n",
        "\n",
        "def perform_qnli(question, sentence, context=None):\n",
        "    prompt = f\"\"\"\n",
        "    Decide if the following sentence answers the given question (entailment). Only answer with one of the following: 'Yes', 'No'.\n",
        "    {'' if context == None else f\"Some examples are: {context}\"}\n",
        "    Identify the following:\n",
        "    QUESTION={question}\n",
        "    SENTENCE={sentence}\n",
        "    ENTAILMENT:\n",
        "    \"\"\"\n",
        "\n",
        "    try:\n",
        "        response = openai.Completion.create(\n",
        "            engine=model,\n",
        "            prompt=prompt,\n",
        "            max_tokens=3,\n",
        "        )\n",
        "        return response[\"choices\"][0][\"text\"].strip()\n",
        "    except Exception as e:\n",
        "        print(\"Error:\", e)\n",
        "        return \"Error\""
      ]
    },
    {
      "cell_type": "code",
      "execution_count": 16,
      "metadata": {
        "id": "V09ecrK1KL-_"
      },
      "outputs": [],
      "source": [
        "GLUE_TASK_TO_KEYS = {\n",
        "    \"qnli\": (\"question\", \"sentence\"),\n",
        "    \"mnli\": (\"premise\", \"hypothesis\"),\n",
        "    \"mrpc\": (\"sentence1\", \"sentence2\"),\n",
        "    \"qnli\": (\"question\", \"sentence\"),\n",
        "    \"qqp\": (\"question1\", \"question2\"),\n",
        "    \"rte\": (\"sentence1\", \"sentence2\"),\n",
        "    \"sst2\": (\"sentence\", None),\n",
        "    \"stsb\": (\"sentence1\", \"sentence2\"),\n",
        "    \"wnli\": (\"sentence1\", \"sentence2\"),\n",
        "}\n",
        "TRAIN_SET_SIZE = 50_000\n",
        "VAL_SET_SIZE = 5_463\n",
        "\n",
        "\n",
        "def get_dataset(split, inds=None):\n",
        "    raw_datasets = load_dataset(\"glue\", \"qnli\")\n",
        "    sentence1_key, sentence2_key = GLUE_TASK_TO_KEYS[\"qnli\"]\n",
        "\n",
        "    tokenizer = AutoTokenizer.from_pretrained(\n",
        "        \"gchhablani/bert-base-cased-finetuned-qnli\", use_fast=True\n",
        "    )\n",
        "\n",
        "    def preprocess_function(examples):\n",
        "        args = (examples[sentence1_key], examples[sentence2_key])\n",
        "        return tokenizer(*args, padding=\"max_length\", max_length=128, truncation=True)\n",
        "\n",
        "    raw_datasets = raw_datasets.map(\n",
        "        preprocess_function,\n",
        "        batched=True,\n",
        "        desc=\"Running tokenizer on dataset\",\n",
        "    )\n",
        "\n",
        "    if split == \"train\":\n",
        "        ds = raw_datasets[\"train\"]\n",
        "    else:\n",
        "        ds = raw_datasets[\"validation\"]\n",
        "    return ds\n",
        "\n",
        "\n",
        "ds_train = get_dataset(\"train\").select(range(TRAIN_SET_SIZE))\n",
        "ds_val = get_dataset(\"val\").select(range(500))"
      ]
    },
    {
      "cell_type": "code",
      "execution_count": 17,
      "metadata": {
        "colab": {
          "base_uri": "https://localhost:8080/",
          "height": 206
        },
        "id": "FBYkP7fXKL-_",
        "outputId": "dc0c55d9-f46a-48fb-c0c8-a7743ce4ac8b"
      },
      "outputs": [
        {
          "data": {
            "text/html": [
              "<div>\n",
              "<style scoped>\n",
              "    .dataframe tbody tr th:only-of-type {\n",
              "        vertical-align: middle;\n",
              "    }\n",
              "\n",
              "    .dataframe tbody tr th {\n",
              "        vertical-align: top;\n",
              "    }\n",
              "\n",
              "    .dataframe thead th {\n",
              "        text-align: right;\n",
              "    }\n",
              "</style>\n",
              "<table border=\"1\" class=\"dataframe\">\n",
              "  <thead>\n",
              "    <tr style=\"text-align: right;\">\n",
              "      <th></th>\n",
              "      <th>val_index</th>\n",
              "      <th>train_index</th>\n",
              "      <th>train_label</th>\n",
              "      <th>input</th>\n",
              "      <th>score</th>\n",
              "      <th>question</th>\n",
              "      <th>sentence</th>\n",
              "    </tr>\n",
              "  </thead>\n",
              "  <tbody>\n",
              "    <tr>\n",
              "      <th>0</th>\n",
              "      <td>0</td>\n",
              "      <td>0</td>\n",
              "      <td>0</td>\n",
              "      <td>What came into force after the new constitutio...</td>\n",
              "      <td>5.316</td>\n",
              "      <td>Why does Sowell believe that there is little t...</td>\n",
              "      <td>Sowell writes that affirmative action policies...</td>\n",
              "    </tr>\n",
              "    <tr>\n",
              "      <th>1</th>\n",
              "      <td>0</td>\n",
              "      <td>0</td>\n",
              "      <td>0</td>\n",
              "      <td>What came into force after the new constitutio...</td>\n",
              "      <td>4.836</td>\n",
              "      <td>What type of language is French considered to be?</td>\n",
              "      <td>Rome's expansion spread Latin throughout Europ...</td>\n",
              "    </tr>\n",
              "    <tr>\n",
              "      <th>2</th>\n",
              "      <td>0</td>\n",
              "      <td>0</td>\n",
              "      <td>1</td>\n",
              "      <td>What came into force after the new constitutio...</td>\n",
              "      <td>4.080</td>\n",
              "      <td>Which direction does the water flow in this area?</td>\n",
              "      <td>From this point, it then flows generally east ...</td>\n",
              "    </tr>\n",
              "    <tr>\n",
              "      <th>3</th>\n",
              "      <td>0</td>\n",
              "      <td>0</td>\n",
              "      <td>0</td>\n",
              "      <td>What came into force after the new constitutio...</td>\n",
              "      <td>3.810</td>\n",
              "      <td>In the nominative, genitive, partitive, illati...</td>\n",
              "      <td>In Estonian, nouns and pronouns do not have gr...</td>\n",
              "    </tr>\n",
              "    <tr>\n",
              "      <th>4</th>\n",
              "      <td>0</td>\n",
              "      <td>0</td>\n",
              "      <td>0</td>\n",
              "      <td>What came into force after the new constitutio...</td>\n",
              "      <td>3.188</td>\n",
              "      <td>What should women do if they are using antibio...</td>\n",
              "      <td>Clinicians have recommended that extra contrac...</td>\n",
              "    </tr>\n",
              "  </tbody>\n",
              "</table>\n",
              "</div>"
            ],
            "text/plain": [
              "   val_index  train_index  train_label  \\\n",
              "0          0            0            0   \n",
              "1          0            0            0   \n",
              "2          0            0            1   \n",
              "3          0            0            0   \n",
              "4          0            0            0   \n",
              "\n",
              "                                               input  score  \\\n",
              "0  What came into force after the new constitutio...  5.316   \n",
              "1  What came into force after the new constitutio...  4.836   \n",
              "2  What came into force after the new constitutio...  4.080   \n",
              "3  What came into force after the new constitutio...  3.810   \n",
              "4  What came into force after the new constitutio...  3.188   \n",
              "\n",
              "                                            question  \\\n",
              "0  Why does Sowell believe that there is little t...   \n",
              "1  What type of language is French considered to be?   \n",
              "2  Which direction does the water flow in this area?   \n",
              "3  In the nominative, genitive, partitive, illati...   \n",
              "4  What should women do if they are using antibio...   \n",
              "\n",
              "                                            sentence  \n",
              "0  Sowell writes that affirmative action policies...  \n",
              "1  Rome's expansion spread Latin throughout Europ...  \n",
              "2  From this point, it then flows generally east ...  \n",
              "3  In Estonian, nouns and pronouns do not have gr...  \n",
              "4  Clinicians have recommended that extra contrac...  "
            ]
          },
          "execution_count": 17,
          "metadata": {},
          "output_type": "execute_result"
        }
      ],
      "source": [
        "trak_scores_data = pd.read_csv(\"bert_trak_scores.csv\")\n",
        "\n",
        "\n",
        "def get_context(validation_index, positive_score=None):\n",
        "    if positive_score == True:\n",
        "      trak_data = trak_scores_data[trak_scores_data[\"score\"] > 0]\n",
        "    elif positive_score == False:\n",
        "      trak_data = trak_scores_data[trak_scores_data[\"score\"] < 0]\n",
        "    else:\n",
        "      trak_data = trak_scores_data\n",
        "\n",
        "    questions = trak_data[trak_data[\"val_index\"] == validation_index][\n",
        "        \"question\"\n",
        "    ].tolist()\n",
        "    sentences = trak_data[trak_data[\"val_index\"] == validation_index][\n",
        "        \"sentence\"\n",
        "    ].tolist()\n",
        "    labels = trak_data[trak_data[\"val_index\"] == validation_index][\n",
        "        \"train_label\"\n",
        "    ].tolist()\n",
        "\n",
        "    contexts = [\n",
        "        f\"QUESTION={q} SENTENCE={s} ENTAILMENT={'YES' if l == 0 else 'NO'}\"\n",
        "        for q, s, l in zip(questions, sentences, labels)\n",
        "    ]\n",
        "    contexts = \"\\n\".join(contexts)\n",
        "\n",
        "    return contexts\n",
        "\n",
        "\n",
        "trak_scores_data.head()"
      ]
    },
    {
      "cell_type": "code",
      "execution_count": 18,
      "metadata": {
        "id": "gLWJIoHiKL-_"
      },
      "outputs": [],
      "source": [
        "# Implement RAG\n",
        "\n",
        "train_questions = ds_train[\"question\"]\n",
        "train_sentences = ds_train[\"sentence\"]\n",
        "train_labels = ds_train[\"label\"]\n",
        "\n",
        "# Combine questions and answers into a single context-answer pair\n",
        "qa_pairs = [\n",
        "    f\"QUESTION={question} SENTENCE={train_sentences[idx]}\"\n",
        "    for idx, question in enumerate(train_questions)\n",
        "]\n",
        "embedding_model = SentenceTransformer(\"all-MiniLM-L6-v2\")\n",
        "qa_embeddings = embedding_model.encode(qa_pairs, convert_to_numpy=True)\n",
        "\n",
        "index = faiss.IndexFlatL2(qa_embeddings.shape[1])\n",
        "index.add(qa_embeddings)\n",
        "\n",
        "gen_tokenizer = AutoTokenizer.from_pretrained(\"t5-small\")\n",
        "gen_model = AutoModelForSeq2SeqLM.from_pretrained(\"t5-small\")"
      ]
    },
    {
      "cell_type": "code",
      "execution_count": 19,
      "metadata": {
        "colab": {
          "base_uri": "https://localhost:8080/"
        },
        "id": "PQPucQyEKL_A",
        "outputId": "93eee362-db1c-4844-ef26-e468d5f8cc58"
      },
      "outputs": [
        {
          "name": "stdout",
          "output_type": "stream",
          "text": [
            "QUESTION=Where was the Eiffel Tower revealed? SENTENCE=Late in the 19th century, Paris hosted two major international expositions: the 1889 Universal Exposition, was held to mark the centennial of the French Revolution and featured the new Eiffel Tower; and the 1900 Universal Exposition, which gave Paris the Pont Alexandre III, the Grand Palais, the Petit Palais and the first Paris Métro line. ENTAILMENT=NO\n",
            "QUESTION=In what year was the Eiffel Tower built? SENTENCE=The notable architectural landmarks of Paris include Notre Dame Cathedral (12th century); the Sainte-Chapelle (13th century); the Eiffel Tower (1889); and the Basilica of Sacré-Cœur on Montmartre (1914). ENTAILMENT=NO\n",
            "QUESTION=In what year was the Eiffel Tower built? SENTENCE=In 2014 Paris received 22.4 million visitors, making it one of the world's top tourist destinations. ENTAILMENT=YES\n",
            "QUESTION=Who designed the Gehry Tower? SENTENCE=Some other popular sights are the Waterloo Column, the Laves House, the Wangenheim Palace, the Lower Saxony State Archives, the Hanover Playhouse, the Kröpcke Clock, the Anzeiger Tower Block, the Administration Building of the NORD/LB, the Cupola Hall of the Congress Centre, the Lower Saxony Stock, the Ministry of Finance, the Garten Church, the Luther Church, the Gehry Tower (designed by the American architect Frank O. Gehry), the specially designed Bus Stops, the Opera House, the Central Station, the Maschsee lake and the city forest Eilenriede, which is one of the largest of its kind in Europe. ENTAILMENT=NO\n",
            "QUESTION=How many towers were planned to be built? SENTENCE=A new project for La Defense, called Hermitage Plaza, launched in 2009, proposes to build two towers, 85 and 86 stories or 320 metres high, which would be the tallest buildings in the European Union, just slightly shorter than the Eiffel Tower. ENTAILMENT=NO\n"
          ]
        }
      ],
      "source": [
        "def retrieve_qa_pairs(question, top_k=5):\n",
        "    # Encode the question\n",
        "    question_embedding = embedding_model.encode([question], convert_to_numpy=True)\n",
        "\n",
        "    # Retrieve the top-k most relevant QA pairs\n",
        "    distances, indices = index.search(question_embedding, top_k)\n",
        "    retrieved_qa_pairs = [\n",
        "        f\"{qa_pairs[idx]} ENTAILMENT={'YES' if train_labels[idx] == 1 else 'NO'}\"\n",
        "        for idx in indices[0]\n",
        "    ]\n",
        "\n",
        "    return \"\\n\".join(retrieved_qa_pairs)\n",
        "\n",
        "\n",
        "question = \"\"\"Where is the Eiffel Tower?\"\"\"\n",
        "answer = retrieve_qa_pairs(question)\n",
        "print(answer)"
      ]
    },
    {
      "cell_type": "code",
      "execution_count": 20,
      "metadata": {
        "colab": {
          "base_uri": "https://localhost:8080/"
        },
        "id": "_R4fz25_KL_A",
        "outputId": "fc6e68d0-291d-4c51-8955-7612e1b66cdc"
      },
      "outputs": [
        {
          "name": "stderr",
          "output_type": "stream",
          "text": [
            "100%|██████████| 500/500 [00:00<00:00, 3680.98it/s]\n"
          ]
        }
      ],
      "source": [
        "def convert_prediction_to_label(prediction):\n",
        "    return 1 if \"yes\" in prediction.lower() else 0 if \"no\" in prediction.lower() else None \n",
        "\n",
        "data = {\n",
        "    \"question\": [],\n",
        "    \"sentence\": [],\n",
        "    \"label\": [],\n",
        "    \"prediction\": [],\n",
        "    \"prediction_pe\": [],\n",
        "    \"prediction_pe_positive\": [],\n",
        "    \"prediction_pe_negative\": [],\n",
        "    \"prediction_rag\": [],\n",
        "}\n",
        "if os.path.exists(\"gpt_qnli_predictions.csv\"):\n",
        "    gpt_qnli_predictions = pd.read_csv(\"gpt_qnli_predictions.csv\")\n",
        "    data = {\n",
        "        \"question\": gpt_qnli_predictions[\"question\"].tolist(),\n",
        "        \"sentence\": gpt_qnli_predictions[\"sentence\"].tolist(),\n",
        "        \"label\": gpt_qnli_predictions[\"label\"].tolist(),\n",
        "        \"prediction\": gpt_qnli_predictions[\"prediction\"].tolist(),\n",
        "        \"prediction_pe\": gpt_qnli_predictions[\"prediction_pe\"].tolist(),\n",
        "        \"prediction_pe_positive\": gpt_qnli_predictions[\n",
        "            \"prediction_pe_positive\"\n",
        "        ].tolist(),\n",
        "        \"prediction_pe_negative\": gpt_qnli_predictions[\n",
        "            \"prediction_pe_negative\"\n",
        "        ].tolist(),\n",
        "        \"prediction_rag\": gpt_qnli_predictions[\"prediction_rag\"].tolist(),\n",
        "    }\n",
        "\n",
        "for example in tqdm(ds_val):\n",
        "    question = example[\"question\"]\n",
        "    sentence = example[\"sentence\"]\n",
        "\n",
        "    if question in data[\"question\"] and sentence in data[\"sentence\"]:\n",
        "        continue\n",
        "\n",
        "    prediction = perform_qnli(question, sentence)\n",
        "    prediction = convert_prediction_to_label(prediction)\n",
        "\n",
        "    prediction_pe = perform_qnli(question, sentence, get_context(example[\"idx\"]))\n",
        "    prediction_pe = convert_prediction_to_label(prediction_pe)\n",
        "\n",
        "    prediction_pe_positive = perform_qnli(\n",
        "        question, sentence, get_context(example[\"idx\"], positive_score=True)\n",
        "    )\n",
        "    prediction_pe_positive = convert_prediction_to_label(prediction_pe_positive)\n",
        "\n",
        "    prediction_pe_negative = perform_qnli(\n",
        "        question, sentence, get_context(example[\"idx\"], positive_score=False)\n",
        "    )\n",
        "    prediction_pe_negative = convert_prediction_to_label(prediction_pe_negative)\n",
        "\n",
        "    rag_context = retrieve_qa_pairs(question, top_k=5)\n",
        "    prediction_rag = perform_qnli(question, sentence, rag_context)\n",
        "    prediction_rag = convert_prediction_to_label(prediction_rag)\n",
        "\n",
        "    data[\"question\"].append(question)\n",
        "    data[\"sentence\"].append(sentence)\n",
        "    data[\"label\"].append(example[\"label\"])\n",
        "    data[\"prediction\"].append(prediction)\n",
        "    data[\"prediction_pe\"].append(prediction_pe)\n",
        "    data[\"prediction_pe_positive\"].append(prediction_pe_positive)\n",
        "    data[\"prediction_pe_negative\"].append(prediction_pe_negative)\n",
        "\n",
        "    data[\"prediction_rag\"].append(prediction_rag)\n",
        "\n",
        "gpt_qnli_predictions = pd.DataFrame(data)\n",
        "gpt_qnli_predictions.to_csv(\"gpt_qnli_predictions.csv\", index=False)"
      ]
    },
    {
      "cell_type": "code",
      "execution_count": 21,
      "metadata": {
        "colab": {
          "base_uri": "https://localhost:8080/"
        },
        "id": "IzQLIa-tKL_A",
        "outputId": "ed841769-7e2a-4e91-a507-30cdc6b17991"
      },
      "outputs": [
        {
          "name": "stdout",
          "output_type": "stream",
          "text": [
            "Accuracy: 0.28\n",
            "Accuracy with RAG: 0.37\n",
            "Accuracy with mixed TRAK score context: 0.43\n",
            "Accuracy with most positive TRAK score context: 0.36\n",
            "Accuracy with most negative TRAK score context: 0.40\n"
          ]
        }
      ],
      "source": [
        "gpt_qnli_predictions = gpt_qnli_predictions.dropna()\n",
        "\n",
        "accuracy = (gpt_qnli_predictions[\"label\"] == gpt_qnli_predictions[\"prediction\"]).mean()\n",
        "accuracy_pe = (\n",
        "    gpt_qnli_predictions[\"label\"] == gpt_qnli_predictions[\"prediction_pe\"]\n",
        ").mean()\n",
        "accuracy_rag = (\n",
        "    gpt_qnli_predictions[\"label\"] == gpt_qnli_predictions[\"prediction_rag\"]\n",
        ").mean()\n",
        "accuracy_pe_positive = (\n",
        "    gpt_qnli_predictions[\"label\"] == gpt_qnli_predictions[\"prediction_pe_positive\"]\n",
        ").mean()\n",
        "accuracy_pe_negative = (\n",
        "    gpt_qnli_predictions[\"label\"] == gpt_qnli_predictions[\"prediction_pe_negative\"]\n",
        ").mean()\n",
        "\n",
        "print(f\"Accuracy: {accuracy:.2f}\")\n",
        "print(f\"Accuracy with RAG: {accuracy_rag:.2f}\")\n",
        "print(f\"Accuracy with mixed TRAK score context: {accuracy_pe:.2f}\")\n",
        "print(f\"Accuracy with most positive TRAK score context: {accuracy_pe_positive:.2f}\")\n",
        "print(f\"Accuracy with most negative TRAK score context: {accuracy_pe_negative:.2f}\")"
      ]
    },
    {
      "cell_type": "code",
      "execution_count": 24,
      "metadata": {
        "colab": {
          "base_uri": "https://localhost:8080/",
          "height": 486
        },
        "id": "6hgCmFdbX7pa",
        "outputId": "8f9e42d4-cee4-4da2-b449-acabf1611d70"
      },
      "outputs": [
        {
          "data": {
            "image/png": "[encoded data removed]",
            "text/plain": [
              "<Figure size 640x480 with 1 Axes>"
            ]
          },
          "metadata": {},
          "output_type": "display_data"
        }
      ],
      "source": [
        "accuracies = {\n",
        "    \"Base Accuracy\": accuracy,\n",
        "    \"Accuracy with RAG\": accuracy_rag,\n",
        "    \"Mixed TRAK Scores\": accuracy_pe,\n",
        "    \"Most Positive TRAK\": accuracy_pe_positive,\n",
        "    \"Most Negative TRAK\": accuracy_pe_negative,\n",
        "}\n",
        "\n",
        "# Plotting the accuracies\n",
        "plt.figure()\n",
        "plt.bar(accuracies.keys(), accuracies.values())\n",
        "plt.xlabel(\"Method\")\n",
        "plt.ylabel(\"Accuracy\")\n",
        "plt.title(f\"{model} QNLI Accuracies with different methods\")\n",
        "plt.xticks(rotation=45, ha=\"right\")  # Rotate x-axis labels for better readability\n",
        "plt.tight_layout()  # Adjust layout to prevent labels from overlapping\n",
        "plt.savefig(f\"qnli_accuracies_{model}.png\")\n",
        "plt.show()"
      ]
    }
  ],
  "metadata": {
    "accelerator": "GPU",
    "colab": {
      "gpuType": "T4",
      "provenance": []
    },
    "kernelspec": {
      "display_name": "Python 3",
      "name": "python3"
    },
    "language_info": {
      "codemirror_mode": {
        "name": "ipython",
        "version": 3
      },
      "file_extension": ".py",
      "mimetype": "text/x-python",
      "name": "python",
      "nbconvert_exporter": "python",
      "pygments_lexer": "ipython3",
      "version": "3.11.9"
    }
  },
  "nbformat": 4,
  "nbformat_minor": 0
}
